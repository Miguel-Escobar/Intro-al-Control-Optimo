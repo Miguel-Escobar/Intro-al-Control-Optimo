{
 "cells": [
  {
   "cell_type": "code",
   "execution_count": 2,
   "metadata": {},
   "outputs": [
    {
     "name": "stdout",
     "output_type": "stream",
     "text": [
      "Rango de la matriz de Kalman: 5\n",
      "El sistema es controlable\n"
     ]
    }
   ],
   "source": [
    "import numpy as np\n",
    "import control as ctr\n",
    "# Escribo las matrices A y B del sistema:\n",
    "\n",
    "A = np.array([[0, 1, 0, 0, 0],\n",
    "              [1, 0, 0, 0, 0],\n",
    "              [0, 0, 0, 1, 0],\n",
    "              [0, 0, 1, 0, 0],\n",
    "              [1, 1, 0, 0, 0]])\n",
    "\n",
    "B = np.array([[0, 0],\n",
    "              [1, 0],\n",
    "              [0, 0],\n",
    "              [0, 1],\n",
    "              [0, 0]])\n",
    "\n",
    "# Determino la Matriz de Kalman para estudiar controlabilidad:\n",
    "\n",
    "Kalman = ctr.ctrb(A, B)\n",
    "\n",
    "print(\"Rango de la matriz de Kalman:\", np.linalg.matrix_rank(Kalman))\n",
    "\n",
    "if np.linalg.matrix_rank(Kalman) == np.shape(A)[0]:\n",
    "    print(\"El sistema es controlable\")"
   ]
  },
  {
   "cell_type": "markdown",
   "metadata": {},
   "source": []
  },
  {
   "cell_type": "code",
   "execution_count": null,
   "metadata": {},
   "outputs": [],
   "source": []
  }
 ],
 "metadata": {
  "kernelspec": {
   "display_name": "Python 3",
   "language": "python",
   "name": "python3"
  },
  "language_info": {
   "codemirror_mode": {
    "name": "ipython",
    "version": 3
   },
   "file_extension": ".py",
   "mimetype": "text/x-python",
   "name": "python",
   "nbconvert_exporter": "python",
   "pygments_lexer": "ipython3",
   "version": "3.11.0"
  },
  "orig_nbformat": 4
 },
 "nbformat": 4,
 "nbformat_minor": 2
}
